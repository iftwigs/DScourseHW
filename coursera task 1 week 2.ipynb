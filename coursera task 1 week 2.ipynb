{
 "cells": [
  {
   "cell_type": "code",
   "execution_count": 44,
   "metadata": {},
   "outputs": [
    {
     "name": "stdout",
     "output_type": "stream",
     "text": [
      "[0.         0.95275444 0.84275727 0.89517152 0.77207885 0.94023857\n",
      " 0.72136089 0.92284833 0.88304782 0.89898475 0.82503645 0.87737213\n",
      " 0.83964325 0.85714286 0.83883541 0.93517963 0.80799386 0.94301971\n",
      " 0.93099344 0.88047714 0.82071571 0.78571429]\n"
     ]
    }
   ],
   "source": [
    "import re\n",
    "import operator\n",
    "import numpy as np\n",
    "import nltk\n",
    "from nltk.tokenize import sent_tokenize, RegexpTokenizer\n",
    "from collections import Counter\n",
    "my_file = open('_3a8d746cf4d86fba2f31586f239d11fd_sentences.txt', 'r')\n",
    "strings = my_file.xreadlines()\n",
    "low = strings.read() #.lower()\n",
    "sentences = sent_tokenize(low)\n",
    "toks = re.split('[^a-z]', low)\n",
    "no_sp = [sp for sp in toks if sp]\n",
    "tok = RegexpTokenizer('(?u)\\\\b\\\\w\\\\w+\\\\b')\n",
    "dictionary = {}\n",
    "number = 0\n",
    "for word in no_sp:\n",
    "    if word not in dictionary:\n",
    "        dictionary[word] = number\n",
    "        number += 1\n",
    "array = np.zeros((len(sentences), len(dictionary)))\n",
    "for i,s in enumerate(sentences):\n",
    "    for w, cnt in Counter(w.lower() for w in tok.tokenize(s)).items():\n",
    "        if w in dictionary.keys():\n",
    "            array[i, dictionary[w]] = cnt\n",
    "import scipy.spatial.distance\n",
    "cos_matrix = []\n",
    "for i in range(len(sentences)):\n",
    "    cos_matrix.append(scipy.spatial.distance.cosine(array[0], array[i]))\n",
    "cos_matrix = np.array(cos_matrix) \n",
    "print (cos_matrix)\n",
    "stringresult = str(cos_matrix)\n"
   ]
  },
  {
   "cell_type": "code",
   "execution_count": 42,
   "metadata": {},
   "outputs": [
    {
     "name": "stdout",
     "output_type": "stream",
     "text": [
      "[ 3.43892857 -0.18692857]\n",
      "[ 3.38225331 -0.12647496 -0.00377835]\n",
      "[ 4.36337662 -1.29889177  0.19376623 -0.00825108]\n"
     ]
    }
   ],
   "source": [
    "import numpy as np\n",
    "array_1 = np.array([[1.,1.], [1.,15.]])\n",
    "vec_1 = np.array([3.252, 0.635])\n",
    "poly1 = np.linalg.solve(array_1, vec_1)\n",
    "array_2 = np.array([[1.,1.,1.], [1.,8.,16.], [1.,15.,225.]])\n",
    "vec_2 = np.array([3.252,2.31,0.635])\n",
    "poly2 = np.linalg.solve(array_2, vec_2)\n",
    "array_3 = np.array([[1.,1.,1.,1.], [1.,4.,16.,64.], [1., 10., 100., 1000.], [1., 15., 225., 3375.]])\n",
    "vec_3 = np.array([3.25, 1.74, 2.5, 0.63])\n",
    "poly3 = np.linalg.solve(array_3, vec_3)\n",
    "print poly1\n",
    "print poly2\n",
    "print poly3"
   ]
  },
  {
   "cell_type": "code",
   "execution_count": null,
   "metadata": {},
   "outputs": [],
   "source": []
  },
  {
   "cell_type": "code",
   "execution_count": 102,
   "metadata": {},
   "outputs": [
    {
     "name": "stdout",
     "output_type": "stream",
     "text": [
      "\n"
     ]
    }
   ],
   "source": []
  },
  {
   "cell_type": "code",
   "execution_count": null,
   "metadata": {},
   "outputs": [],
   "source": []
  },
  {
   "cell_type": "code",
   "execution_count": null,
   "metadata": {},
   "outputs": [],
   "source": []
  },
  {
   "cell_type": "code",
   "execution_count": null,
   "metadata": {},
   "outputs": [],
   "source": []
  }
 ],
 "metadata": {
  "kernelspec": {
   "display_name": "Python 2",
   "language": "python",
   "name": "python2"
  },
  "language_info": {
   "codemirror_mode": {
    "name": "ipython",
    "version": 2
   },
   "file_extension": ".py",
   "mimetype": "text/x-python",
   "name": "python",
   "nbconvert_exporter": "python",
   "pygments_lexer": "ipython2",
   "version": "2.7.15"
  }
 },
 "nbformat": 4,
 "nbformat_minor": 2
}
