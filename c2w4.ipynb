{
 "cells": [
  {
   "cell_type": "code",
   "execution_count": 2,
   "metadata": {},
   "outputs": [],
   "source": [
    "import numpy as np\n",
    "from sklearn import datasets\n",
    "import matplotlib.pyplot as plt\n",
    "%matplotlib inline"
   ]
  },
  {
   "cell_type": "code",
   "execution_count": 6,
   "metadata": {},
   "outputs": [],
   "source": [
    "digits = datasets.load_digits()\n",
    "X = digits.data\n",
    "y = digits.target"
   ]
  },
  {
   "cell_type": "code",
   "execution_count": 13,
   "metadata": {},
   "outputs": [
    {
     "name": "stdout",
     "output_type": "stream",
     "text": [
      "0.8319618718151178\n"
     ]
    }
   ],
   "source": [
    "from sklearn import cross_validation\n",
    "from sklearn.tree import DecisionTreeClassifier\n",
    "model = DecisionTreeClassifier()\n",
    "cvscore = cross_validation.cross_val_score(model, X, y, cv = 10)\n",
    "print(np.mean(cvscore))"
   ]
  },
  {
   "cell_type": "code",
   "execution_count": 14,
   "metadata": {},
   "outputs": [
    {
     "name": "stdout",
     "output_type": "stream",
     "text": [
      "0.9282763955891333\n"
     ]
    }
   ],
   "source": [
    "from sklearn.ensemble import BaggingClassifier\n",
    "bag = BaggingClassifier(model, n_estimators = 100)\n",
    "cvscore_bag = cross_validation.cross_val_score(bag, X, y, cv = 10)\n",
    "print(np.mean(cvscore_bag))"
   ]
  },
  {
   "cell_type": "code",
   "execution_count": 15,
   "metadata": {},
   "outputs": [
    {
     "name": "stdout",
     "output_type": "stream",
     "text": [
      "0.9326775630727001\n"
     ]
    }
   ],
   "source": [
    "bag2 = BaggingClassifier(model, n_estimators = 100, max_features = int(np.sqrt(X.shape[1])))\n",
    "cvscore_bag2 = cross_validation.cross_val_score(bag2, X, y, cv = 10)\n",
    "print(np.mean(cvscore_bag2))"
   ]
  },
  {
   "cell_type": "code",
   "execution_count": 17,
   "metadata": {},
   "outputs": [
    {
     "name": "stdout",
     "output_type": "stream",
     "text": [
      "0.9381948526540713\n",
      "0.7506979669852696\n"
     ]
    }
   ],
   "source": [
    "tree = DecisionTreeClassifier(splitter = 'random', max_features = int(np.sqrt(X.shape[1])))\n",
    "bag3 = BaggingClassifier(tree, n_estimators = 100, bootstrap = False, max_features = int(np.sqrt(X.shape[1])))\n",
    "cvscore_bag3 = cross_validation.cross_val_score(bag3, X, y, cv = 10)\n",
    "cvscore_tree = cross_validation.cross_val_score(tree, X, y, cv = 10)\n",
    "print(np.mean(cvscore_bag3))\n",
    "print(np.mean(cvscore_tree))"
   ]
  },
  {
   "cell_type": "code",
   "execution_count": 12,
   "metadata": {},
   "outputs": [
    {
     "name": "stdout",
     "output_type": "stream",
     "text": [
      "0.9177041720655262\n"
     ]
    }
   ],
   "source": [
    "from sklearn.ensemble import RandomForestClassifier\n",
    "forest = RandomForestClassifier()\n",
    "cvscore_forest = cross_validation.cross_val_score(forest, X, y, cv = 10)\n",
    "print(np.mean(cvscore_forest))"
   ]
  },
  {
   "cell_type": "code",
   "execution_count": null,
   "metadata": {},
   "outputs": [],
   "source": []
  }
 ],
 "metadata": {
  "kernelspec": {
   "display_name": "Python 2",
   "language": "python",
   "name": "python2"
  },
  "language_info": {
   "codemirror_mode": {
    "name": "ipython",
    "version": 2
   },
   "file_extension": ".py",
   "mimetype": "text/x-python",
   "name": "python",
   "nbconvert_exporter": "python",
   "pygments_lexer": "ipython2",
   "version": "2.7.15"
  }
 },
 "nbformat": 4,
 "nbformat_minor": 2
}
